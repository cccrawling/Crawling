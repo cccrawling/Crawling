{
 "cells": [
  {
   "cell_type": "code",
   "execution_count": 26,
   "metadata": {},
   "outputs": [],
   "source": [
    "import pandas as pd\n",
    "\n",
    "cgv = pd.read_csv('../cgv_crawling.csv')\n",
    "daum = pd.read_csv('../daum_crawling.csv')\n",
    "lotte = pd.read_csv('../lotte_crawling.csv')\n",
    "mega = pd.read_csv('../mega_crawling.csv')\n",
    "# naver = pd.read_csv('ddd.csv')\n",
    "\n",
    "#* 필요시 사용\n",
    "# # 네이버 테이블 분리\n",
    "# naver_review = naver.loc[:,['name', 'review']]\n",
    "# naver.drop(columns='review', inplace=True)"
   ]
  },
  {
   "cell_type": "code",
   "execution_count": 14,
   "metadata": {},
   "outputs": [],
   "source": [
    "# 제목 전처리\n",
    "lotte.name = lotte.name.apply(lambda x: ''.join(x.split()))\n",
    "mega.name = mega.name.apply(lambda x: ''.join(x.split()))\n",
    "cgv.name = cgv.name.apply(lambda x: ''.join(x.split(',')))"
   ]
  },
  {
   "cell_type": "markdown",
   "metadata": {},
   "source": [
    "Daum 영화 기준 // 같은 영화제목만 추출"
   ]
  },
  {
   "cell_type": "code",
   "execution_count": 27,
   "metadata": {},
   "outputs": [],
   "source": [
    "# 다음 기준으로 제목 동일한 데이터만 추출\n",
    "column = list(daum.name.values)\n",
    "\n",
    "cgv = cgv[cgv['name'].isin(column)]\n",
    "mega = mega[mega['name'].isin(column)]\n",
    "lotte = lotte[lotte['name'].isin(column)]\n",
    "\n",
    "#print(len(cgv.name), len(mega.name), len(lotte.name))"
   ]
  },
  {
   "cell_type": "code",
   "execution_count": 16,
   "metadata": {},
   "outputs": [],
   "source": [
    "# 리뷰 데이터 합치기\n",
    "def merge(df1, df2):\n",
    "    merge_df = pd.merge(df1, df2, on='name', suffixes=('_df1', '_df2'))\n",
    "    merge_df['review'] = merge_df['review_df1'] + merge_df['review_df2']\n",
    "    merge_df = merge_df.drop(['review_df1', 'review_df2'], axis=1)\n",
    "    \n",
    "    return merge_df\n",
    "\n",
    "result1 = merge(lotte, cgv)\n",
    "result2 = merge(result1, mega)\n",
    "result3 = merge(result2, daum)\n",
    "# result = merge(result3, naver_review)\n",
    "# len(result3.iloc[1,:].review)"
   ]
  },
  {
   "cell_type": "markdown",
   "metadata": {},
   "source": [
    "리뷰 통합 // review.csv"
   ]
  },
  {
   "cell_type": "code",
   "execution_count": 18,
   "metadata": {},
   "outputs": [],
   "source": [
    "result3.to_csv('review.csv', index=False)"
   ]
  },
  {
   "cell_type": "markdown",
   "metadata": {},
   "source": [
    "모델 수행"
   ]
  },
  {
   "cell_type": "code",
   "execution_count": 19,
   "metadata": {},
   "outputs": [],
   "source": [
    "import pandas as pd\n",
    "import re\n",
    "\n",
    "df = pd.read_csv('review.csv')\n",
    "\n",
    "def preprocessing(review):\n",
    "    filtered_review = re.sub(\"[^a-zA-Zㄱ-ㅎ가-힣 '']\", \"\", review)\n",
    "    return filtered_review\n",
    "\n",
    "df['review'] = df['review'].apply(lambda x: [preprocessing(x)])"
   ]
  },
  {
   "cell_type": "markdown",
   "metadata": {},
   "source": [
    "특수문자 전처리 된 리뷰  // reciew_clean.csv"
   ]
  },
  {
   "cell_type": "code",
   "execution_count": 21,
   "metadata": {},
   "outputs": [],
   "source": [
    "df.to_csv('review_clean.csv', index=False)"
   ]
  },
  {
   "cell_type": "markdown",
   "metadata": {},
   "source": [
    "감정분석 수행"
   ]
  },
  {
   "cell_type": "code",
   "execution_count": 28,
   "metadata": {},
   "outputs": [],
   "source": [
    "import pandas as pd\n",
    "from model import process_news_keyword\n",
    "\n",
    "df = pd.read_csv('review_clean.csv')\n",
    "\n",
    "result = process_news_keyword(df)\n",
    "result"
   ]
  }
 ],
 "metadata": {
  "kernelspec": {
   "display_name": "local",
   "language": "python",
   "name": "python3"
  },
  "language_info": {
   "codemirror_mode": {
    "name": "ipython",
    "version": 3
   },
   "file_extension": ".py",
   "mimetype": "text/x-python",
   "name": "python",
   "nbconvert_exporter": "python",
   "pygments_lexer": "ipython3",
   "version": "3.11.5"
  }
 },
 "nbformat": 4,
 "nbformat_minor": 2
}
