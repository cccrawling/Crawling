{
 "cells": [
  {
   "cell_type": "markdown",
   "metadata": {},
   "source": [
    "# 동영상 뽑다가 마지막에 실패"
   ]
  },
  {
   "cell_type": "code",
   "execution_count": 105,
   "metadata": {},
   "outputs": [],
   "source": [
    "import pandas as pd\n",
    "import requests\n",
    "from bs4 import BeautifulSoup\n",
    "import json\n",
    "from datetime import datetime\n",
    "\n",
    "items = []\n",
    "name_list = []\n",
    "url = 'https://www.megabox.co.kr/on/oh/oha/Movie/selectMovieList.do'\n",
    "headers = {\"User-Agent\": \"Mozilla/5.0\"}\n",
    "for page_number in range(1, 3):\n",
    "    payload = {\n",
    "        \"currentPage\": str(page_number),\n",
    "        \"recordCountPerPage\": \"20\",\n",
    "        \"pageType\": \"rfilmDe\",\n",
    "        \"ibxMovieNmSearch\": \"\",\n",
    "        \"onairYn\": \"MSC02\",\n",
    "        \"specialType\": \"\",\n",
    "        \"specialYn\": \"N\"}\n",
    "    response = requests.post(url,json=payload, headers=headers)\n",
    "    data = json.loads(response.text)\n",
    "\n",
    "    num = len(data['movieList'])\n",
    "    now = datetime.now().strftime('%Y.%m.%d')\n",
    "    for i in range(num):\n",
    "        filter_movie = data['movieList'][i]\n",
    "        start_dt = filter_movie['rfilmDe']\n",
    "        name = filter_movie['movieNm']\n",
    "        \n",
    "        if name not in name_list:\n",
    "            if start_dt > now:\n",
    "                name_list.append(name)\n",
    "                items.append({\n",
    "                    'code' : filter_movie['movieNo'],\n",
    "                    'url' : 'https://www.megabox.co.kr/movie-detail?rpstMovieNo=' + filter_movie['movieNo'],\n",
    "                    'img_url' : 'https://www.megabox.co.kr/' + filter_movie['imgPathNm'],\n",
    "                    'name' : name,\n",
    "                    'date' : start_dt,\n",
    "                    'booking' : filter_movie['boxoBokdRt'],\n",
    "                })\n",
    "            \n",
    "            \n",
    "# 동영상 뽑는거\n",
    "\n",
    "url = 'https://www.megabox.co.kr/on/oh/oha/Movie/selectMovieStilDetail.do'\n",
    "headers = {\"User-Agent\": \"Mozilla/5.0\"}\n",
    "\n",
    "mp4_list = []\n",
    "\n",
    "num = len(items)\n",
    "\n",
    "for i in range(num):\n",
    "    code = items[i]['code']\n",
    "    payload = {\n",
    "        'rpstMovieNo' : code\n",
    "    }\n",
    "\n",
    "    response = requests.post(url, json=payload, headers=headers)\n",
    "    soup = BeautifulSoup(response.text, 'html.parser')\n",
    "\n",
    "    try:\n",
    "        mp4 = soup.find('div', class_='swiper-slide').find('source')['src']\n",
    "        # mp4_list.append(mp4)\n",
    "        items[i]['mp4_url'] = mp4\n",
    "\n",
    "    except:\n",
    "        # mp4_list.append('0')\n",
    "        items[i]['mp4_url'] = '0'\n",
    "\n",
    "# 세부정보 뽑는거\n",
    "\n",
    "url = 'https://www.megabox.co.kr/on/oh/oha/Movie/selectMovieInfo.do'\n",
    "headers = {\"User-Agent\": \"Mozilla/5.0\"}\n",
    "\n",
    "\n",
    "num = len(items)\n",
    "\n",
    "for i in range(num):\n",
    "    code = items[i]['code']\n",
    "    payload = {\n",
    "        'rpstMovieNo' : code\n",
    "    }\n",
    "\n",
    "    response = requests.post(url, json=payload, headers=headers)\n",
    "    soup = BeautifulSoup(response.text, 'html.parser')\n",
    "\n",
    "    soup.find('div', class_='line')\n",
    "    \n",
    "    filter_soup = soup.find('div', class_='line').find_all('p')\n",
    "    director = filter_soup[0].text.split('\\xa0: ')[1]\n",
    "    genre_runtime = filter_soup[1].text.split('\\xa0: ')[1]\n",
    "    \n",
    "    items[i]['director'] = director\n",
    "    items[i]['genre_runtime'] = genre_runtime"
   ]
  },
  {
   "cell_type": "code",
   "execution_count": 106,
   "metadata": {},
   "outputs": [
    {
     "data": {
      "text/plain": [
       "40"
      ]
     },
     "execution_count": 106,
     "metadata": {},
     "output_type": "execute_result"
    }
   ],
   "source": [
    "len(items)"
   ]
  },
  {
   "cell_type": "code",
   "execution_count": 110,
   "metadata": {},
   "outputs": [
    {
     "data": {
      "text/plain": [
       "{'code': '24006600',\n",
       " 'url': 'https://www.megabox.co.kr/movie-detail?rpstMovieNo=24006600',\n",
       " 'img_url': 'https://www.megabox.co.kr//SharedImg/2024/02/06/pzLUTKyxmyhgvO3gK4AhuOUv1zO0L55J.jpg',\n",
       " 'name': '오멘: 저주의 시작',\n",
       " 'date': '2024.04',\n",
       " 'booking': 0,\n",
       " 'mp4_url': 'https://s3550.smartucc.kr/encodeFile/3550/2024/02/06/3311e966d67e7f600606912814b8498e_W.mp4',\n",
       " 'director': '아르카샤 스티븐슨',\n",
       " 'genre_runtime': '공포(호러) / 0 분'}"
      ]
     },
     "execution_count": 110,
     "metadata": {},
     "output_type": "execute_result"
    }
   ],
   "source": [
    "items[39]"
   ]
  },
  {
   "cell_type": "code",
   "execution_count": 85,
   "metadata": {},
   "outputs": [],
   "source": [
    "from pymongo import MongoClient\n",
    "\n",
    "client = MongoClient('localhost', 27017)\n",
    "db = client.movies.upcoming"
   ]
  },
  {
   "cell_type": "code",
   "execution_count": 86,
   "metadata": {},
   "outputs": [
    {
     "data": {
      "text/plain": [
       "<pymongo.results.InsertManyResult at 0x222896ecf98>"
      ]
     },
     "execution_count": 86,
     "metadata": {},
     "output_type": "execute_result"
    }
   ],
   "source": [
    "db.insert_many(items)"
   ]
  },
  {
   "cell_type": "code",
   "execution_count": 87,
   "metadata": {},
   "outputs": [
    {
     "ename": "TypeError",
     "evalue": "unhashable type: 'dict'",
     "output_type": "error",
     "traceback": [
      "\u001b[1;31m---------------------------------------------------------------------------\u001b[0m",
      "\u001b[1;31mTypeError\u001b[0m                                 Traceback (most recent call last)",
      "\u001b[1;32m<ipython-input-87-2679b0902c2a>\u001b[0m in \u001b[0;36m<module>\u001b[1;34m\u001b[0m\n\u001b[1;32m----> 1\u001b[1;33m \u001b[0ma\u001b[0m \u001b[1;33m=\u001b[0m \u001b[0mlist\u001b[0m\u001b[1;33m(\u001b[0m\u001b[0mset\u001b[0m\u001b[1;33m(\u001b[0m\u001b[0mitems\u001b[0m\u001b[1;33m)\u001b[0m\u001b[1;33m)\u001b[0m\u001b[1;33m\u001b[0m\u001b[1;33m\u001b[0m\u001b[0m\n\u001b[0m",
      "\u001b[1;31mTypeError\u001b[0m: unhashable type: 'dict'"
     ]
    }
   ],
   "source": [
    "a = list(set(items))"
   ]
  },
  {
   "cell_type": "code",
   "execution_count": 204,
   "metadata": {},
   "outputs": [],
   "source": [
    "url = 'https://www.megabox.co.kr/on/oh/oha/Movie/selectMovieInfo.do'\n",
    "headers = {\"User-Agent\": \"Mozilla/5.0\"}\n",
    "\n",
    "\n",
    "\n",
    "\n",
    "code = items[5]['code']\n",
    "payload = {\n",
    "    'rpstMovieNo' : code\n",
    "}\n",
    "\n",
    "response = requests.post(url, json=payload, headers=headers)\n",
    "soup = BeautifulSoup(response.text, 'html.parser')\n",
    "\n",
    "soup.find('div', class_='line')\n",
    "\n",
    "filter_soup = soup.find('div', class_='line').find_all('p')\n",
    "director = filter_soup[0].text.split('\\xa0: ')[1]\n",
    "genre_runtime = filter_soup[1].text.split('\\xa0: ')[1]\n",
    "\n",
    "\n"
   ]
  },
  {
   "cell_type": "code",
   "execution_count": 205,
   "metadata": {},
   "outputs": [
    {
     "name": "stdout",
     "output_type": "stream",
     "text": [
      "[{'genre_runtime': '애니메이션 / 70 분'}, {'age': '전체관람가'}, {'date': '2024.02.15'}, {'감독': '0'}]\n"
     ]
    }
   ],
   "source": [
    "director_list = {'감독': 'director', '장르': 'genre_runtime', '등급': 'age', '개봉일': 'date'}\n",
    "k = []\n",
    "num = len(filter_soup)\n",
    "for i in range(num):\n",
    "    type = filter_soup[i].text.split('\\xa0: ')\n",
    "    target = type[1]\n",
    "    k.append({director_list[type[0]]: target})\n",
    "    director_list.pop(type[0])\n",
    "\n",
    "if len(director_list) != 0:\n",
    "    for key, val in director_list.items():\n",
    "        k.append({key: '0'})\n",
    "\n",
    "for dict in k:\n",
    "    for key, val in dict.items():\n",
    "        if key != 'date':\n",
    "            items[5][key] = val"
   ]
  },
  {
   "cell_type": "code",
   "execution_count": 202,
   "metadata": {},
   "outputs": [
    {
     "data": {
      "text/plain": [
       "1"
      ]
     },
     "execution_count": 202,
     "metadata": {},
     "output_type": "execute_result"
    }
   ],
   "source": [
    "director = {'e' : 1}\n",
    "len(director)"
   ]
  },
  {
   "cell_type": "code",
   "execution_count": 191,
   "metadata": {},
   "outputs": [
    {
     "data": {
      "text/plain": [
       "{'장르': '0', '등급': '0', '개봉일': '0'}"
      ]
     },
     "execution_count": 191,
     "metadata": {},
     "output_type": "execute_result"
    }
   ],
   "source": [
    "a = [{'genre_runtime': '공연 / 50 분'}, {'age': '전체관람가'}, {'date': '2024.02.14'}, {'0': '0'}]\n",
    "director_list.pop('감독')\n",
    "director_list"
   ]
  },
  {
   "cell_type": "code",
   "execution_count": null,
   "metadata": {},
   "outputs": [],
   "source": []
  }
 ],
 "metadata": {
  "kernelspec": {
   "display_name": "local",
   "language": "python",
   "name": "python3"
  },
  "language_info": {
   "codemirror_mode": {
    "name": "ipython",
    "version": 3
   },
   "file_extension": ".py",
   "mimetype": "text/x-python",
   "name": "python",
   "nbconvert_exporter": "python",
   "pygments_lexer": "ipython3",
   "version": "3.6.13"
  }
 },
 "nbformat": 4,
 "nbformat_minor": 2
}
