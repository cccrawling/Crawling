{
 "cells": [
  {
   "cell_type": "markdown",
   "metadata": {},
   "source": [
    "# 동영상 뽑다가 마지막에 실패"
   ]
  },
  {
   "cell_type": "code",
   "execution_count": 5,
   "metadata": {},
   "outputs": [],
   "source": [
    "import pandas as pd\n",
    "import requests\n",
    "from bs4 import BeautifulSoup"
   ]
  },
  {
   "cell_type": "code",
   "execution_count": 65,
   "metadata": {},
   "outputs": [],
   "source": [
    "url = 'https://search.daum.net/search?w=tot&DA=YZR&t__nil_searchbox=btn&sug=&sugo=&sq=&o=&q=%EC%98%81%ED%99%94'\n",
    "data = requests.get(url)\n",
    "soup = BeautifulSoup(data.text, 'html.parser')\n",
    "detail_url_list=[]\n",
    "\n",
    "for i in range(20):\n",
    "    detail_url_list.append('https://search.daum.net/search' + soup.find_all('div', class_='wrap_thumb')[i].find(class_='thumb')['href'])\n"
   ]
  },
  {
   "cell_type": "code",
   "execution_count": 99,
   "metadata": {},
   "outputs": [],
   "source": [
    "movie_url = detail_url_list[1]\n",
    "data = requests.get(movie_url)\n",
    "soup = BeautifulSoup(data.text, 'html.parser')"
   ]
  },
  {
   "cell_type": "code",
   "execution_count": 100,
   "metadata": {},
   "outputs": [],
   "source": [
    "movie_detail_url = soup.find_all('c-thumb')[1]['data-href']\n",
    "datas = requests.get(movie_detail_url)\n",
    "soup = BeautifulSoup(datas.text, 'html.parser')"
   ]
  },
  {
   "cell_type": "code",
   "execution_count": 103,
   "metadata": {},
   "outputs": [],
   "source": [
    "soup.find('iframe')"
   ]
  },
  {
   "cell_type": "code",
   "execution_count": 117,
   "metadata": {},
   "outputs": [],
   "source": [
    "df = pd.DataFrame()\n",
    "df['a'] = [1, 2, 3]\n",
    "df['b'] = ['a', 'b', 'c']\n",
    "\n",
    "df_t = df.to_dict(orient='records')\n",
    "df_t = df_t[0]"
   ]
  },
  {
   "cell_type": "code",
   "execution_count": 119,
   "metadata": {},
   "outputs": [],
   "source": [
    "del df_t['a']"
   ]
  },
  {
   "cell_type": "code",
   "execution_count": 120,
   "metadata": {},
   "outputs": [
    {
     "data": {
      "text/plain": [
       "{'b': 'a'}"
      ]
     },
     "execution_count": 120,
     "metadata": {},
     "output_type": "execute_result"
    }
   ],
   "source": [
    "df_t"
   ]
  },
  {
   "cell_type": "code",
   "execution_count": 132,
   "metadata": {},
   "outputs": [
    {
     "data": {
      "text/plain": [
       "{'name': '웡카',\n",
       " 'url': 'http://www.cgv.co.kr/movies/detail-view/?midx=87937',\n",
       " 'img_url': 'https://img.cgv.co.kr/Movie/Thumbnail/Poster/000087/87937/87937_320.jpg',\n",
       " 'people': 10068,\n",
       " 'score': '94%',\n",
       " 'date': '2024.01.31',\n",
       " 'country': '미국',\n",
       " 'runtime': '116분'}"
      ]
     },
     "execution_count": 132,
     "metadata": {},
     "output_type": "execute_result"
    }
   ],
   "source": [
    "from pymongo import MongoClient\n",
    "\n",
    "client = MongoClient('localhost', 27017)\n",
    "collection = client.movies.info\n",
    "\n",
    "a = collection.find_one({'name': '웡카'})\n",
    "a.pop('_id')\n",
    "a\n",
    "# movie_list = list(collection.find_one({'name' : '윙카'}))"
   ]
  },
  {
   "cell_type": "code",
   "execution_count": 122,
   "metadata": {},
   "outputs": [
    {
     "data": {
      "text/plain": [
       "[]"
      ]
     },
     "execution_count": 122,
     "metadata": {},
     "output_type": "execute_result"
    }
   ],
   "source": [
    "movie_list"
   ]
  },
  {
   "cell_type": "code",
   "execution_count": null,
   "metadata": {},
   "outputs": [],
   "source": []
  }
 ],
 "metadata": {
  "kernelspec": {
   "display_name": "local",
   "language": "python",
   "name": "python3"
  },
  "language_info": {
   "codemirror_mode": {
    "name": "ipython",
    "version": 3
   },
   "file_extension": ".py",
   "mimetype": "text/x-python",
   "name": "python",
   "nbconvert_exporter": "python",
   "pygments_lexer": "ipython3",
   "version": "3.6.13"
  }
 },
 "nbformat": 4,
 "nbformat_minor": 2
}
