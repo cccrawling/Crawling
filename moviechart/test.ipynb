{
 "cells": [
  {
   "cell_type": "code",
   "execution_count": 90,
   "metadata": {},
   "outputs": [],
   "source": [
    "import pandas as pd\n",
    "\n",
    "cgv = pd.read_csv('cgv_crawling.csv')\n",
    "daum = pd.read_csv('daum_crawling.csv')\n",
    "lotte = pd.read_csv('lotte_crawling.csv')\n",
    "mega = pd.read_csv('mega_crawling.csv')\n",
    "naver = pd.read_csv('naver_crawling.csv')"
   ]
  },
  {
   "cell_type": "code",
   "execution_count": 91,
   "metadata": {},
   "outputs": [],
   "source": [
    "# 네이버 테이블 분리\n",
    "naver_review = naver.loc[:,['name', 'review']]\n",
    "naver.drop(columns='review', inplace=True)"
   ]
  },
  {
   "cell_type": "code",
   "execution_count": 92,
   "metadata": {},
   "outputs": [],
   "source": [
    "# 제목 전처리\n",
    "lotte.name = lotte.name.apply(lambda x: ''.join(x.split()))\n",
    "mega.name = mega.name.apply(lambda x: ''.join(x.split()))\n",
    "cgv.name = cgv.name.apply(lambda x: ''.join(x.split(',')))"
   ]
  },
  {
   "cell_type": "code",
   "execution_count": 93,
   "metadata": {},
   "outputs": [
    {
     "name": "stdout",
     "output_type": "stream",
     "text": [
      "15 15 14\n"
     ]
    }
   ],
   "source": [
    "# 다음 기준으로 제목 동일한 데이터만 추출\n",
    "column = list(daum.name.values)\n",
    "\n",
    "cgv = cgv[cgv['name'].isin(column)]\n",
    "mega = mega[mega['name'].isin(column)]\n",
    "lotte = lotte[lotte['name'].isin(column)]\n",
    "\n",
    "print(len(cgv.name), len(mega.name), len(lotte.name))"
   ]
  },
  {
   "cell_type": "code",
   "execution_count": 94,
   "metadata": {},
   "outputs": [],
   "source": [
    "# 리뷰 데이터 합치기\n",
    "def merge(df1, df2):\n",
    "    merge_df = pd.merge(df1, df2, on='name', suffixes=('_df1', '_df2'))\n",
    "    merge_df['review'] = merge_df['review_df1'] + merge_df['review_df2']\n",
    "    merge_df = merge_df.drop(['review_df1', 'review_df2'], axis=1)\n",
    "    \n",
    "    return merge_df\n",
    "\n",
    "result1 = merge(lotte, cgv)\n",
    "result2 = merge(result1, mega)\n",
    "result3 = merge(result2, naver_review)\n",
    "result = merge(result3, daum)"
   ]
  },
  {
   "cell_type": "code",
   "execution_count": 95,
   "metadata": {},
   "outputs": [
    {
     "data": {
      "text/plain": [
       "42423"
      ]
     },
     "execution_count": 95,
     "metadata": {},
     "output_type": "execute_result"
    }
   ],
   "source": [
    "len(result.iloc[1,:].review)"
   ]
  }
 ],
 "metadata": {
  "kernelspec": {
   "display_name": "local",
   "language": "python",
   "name": "python3"
  },
  "language_info": {
   "codemirror_mode": {
    "name": "ipython",
    "version": 3
   },
   "file_extension": ".py",
   "mimetype": "text/x-python",
   "name": "python",
   "nbconvert_exporter": "python",
   "pygments_lexer": "ipython3",
   "version": "3.6.13"
  }
 },
 "nbformat": 4,
 "nbformat_minor": 2
}
