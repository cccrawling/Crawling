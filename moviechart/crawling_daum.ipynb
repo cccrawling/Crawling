{
 "cells": [
  {
   "cell_type": "code",
   "execution_count": 1,
   "metadata": {},
   "outputs": [],
   "source": [
    "import pandas as pd\n",
    "import numpy as np\n",
    "import requests\n",
    "from bs4 import BeautifulSoup\n",
    "import json\n",
    "\n",
    "headers = {'User-Agent' : 'Mozilla/5.0 (Windows NT 10.0; Win64; x64)AppleWebKit/537.36 (KHTML, like Gecko) Chrome/73.0.3683.86 Safari/537.36'}\n"
   ]
  },
  {
   "cell_type": "code",
   "execution_count": 2,
   "metadata": {},
   "outputs": [
    {
     "name": "stdout",
     "output_type": "stream",
     "text": [
      "20 20 20\n"
     ]
    }
   ],
   "source": [
    "# 다음에서 상영영화 이름 리스트\n",
    "\n",
    "data = requests.get('https://search.daum.net/search?w=tot&q=%ED%98%84%EC%9E%AC%EC%83%81%EC%98%81%EC%9E%91&rtmaxcoll=0SP&DA=MOR', headers=headers)\n",
    "html_data = BeautifulSoup(data.text, 'html.parser')\n",
    "\n",
    "# name -> 네이버에서 사용\n",
    "name_list = []\n",
    "\n",
    "data_list = html_data.find_all('a', class_='fn_tit txt_ellip')\n",
    "num = len(data_list)\n",
    "\n",
    "for i in range(num):\n",
    "    name_list.append(''.join(data_list[i].text.split()))\n",
    "    \n",
    "\n",
    "# url -> 다음 리뷰 긁어올때 사용\n",
    "url_list = []\n",
    "url = 'https://search.daum.net/search'\n",
    "\n",
    "data_list = html_data.find_all('div', class_='wrap_thumb')\n",
    "data_list = data_list[:num]\n",
    "for i in range(num):\n",
    "    movie_url = url + data_list[i].find('a')['href']\n",
    "    url_list.append(movie_url)\n",
    "    \n",
    "    \n",
    "import re\n",
    "# reivew 링크 저장\n",
    "movie_code_list = []\n",
    "for url in url_list:\n",
    "    data = requests.get(url)\n",
    "    daum_filter = BeautifulSoup(data.text, 'html.parser')\n",
    "    daum_filter = daum_filter.find_all(attrs={'disp-attr': 'EM1'})[0]\n",
    "    try:\n",
    "        link = daum_filter.find_all('dd')[4].find('c-link').get('data-href')\n",
    "        num = re.search(r'\\d+', link).group()\n",
    "        movie_code_list.append(int(num))\n",
    "    except:\n",
    "        movie_code_list.append(0)\n",
    "        \n",
    "print(len(name_list), len(url_list), len(movie_code_list))"
   ]
  },
  {
   "cell_type": "code",
   "execution_count": 27,
   "metadata": {},
   "outputs": [],
   "source": [
    "\n",
    "url = 'https://gateway.kinolights.com/graphql'\n",
    "num = 10\n",
    "review_list = []\n",
    "\n",
    "for i in movie_code_list:\n",
    "    temp = []\n",
    "    if i != 0:\n",
    "        for j in range(0, 210, 10):\n",
    "            payload = {\n",
    "                'operationName' : 'QueryReviews',\n",
    "                'query' : \"fragment FragmentReviewField on UserReviewOutput {\\n  id\\n  reviewTitle\\n  review\\n  reviewLink\\n  isPrivate\\n  isPreview\\n  hasSpoiler\\n  likeCount\\n  commentCount\\n  sharedCount\\n  viewCount\\n  deletedUserId\\n  createdAt\\n  isMyLike\\n  userIndexRating {\\n    index\\n    __typename\\n  }\\n  userStarRating {\\n    star\\n    __typename\\n  }\\n  movie {\\n    id\\n    titleKr\\n    posterImage {\\n      path\\n      __typename\\n    }\\n    __typename\\n  }\\n  reviewer {\\n    id\\n    name\\n    isPremium\\n    profileImage {\\n      path\\n      __typename\\n    }\\n    __typename\\n  }\\n  watchedAt {\\n    watchedAt\\n    __typename\\n  }\\n  blindStatus\\n  isReportedByMe\\n  __typename\\n}\\n\\nquery QueryReviews($offset: Int = 0, $limit: Int = 10, $movieId: Int!, $orderBy: ReviewMoviesOrderType!, $orderOption: OrderOptionType!) {\\n  reviews(\\n    offset: $offset\\n    limit: $limit\\n    movieId: $movieId\\n    orderBy: $orderBy\\n    orderOption: $orderOption\\n  ) {\\n    ...FragmentReviewField\\n    __typename\\n  }\\n}\\n\",\n",
    "                'variables' : {'offset': j, 'limit': num, 'movieId': i, 'orderBy': \"LIKE\", 'orderOption': \"DESC\"}\n",
    "            }\n",
    "            \n",
    "            try:\n",
    "                response =requests.post(url, json=payload, headers=headers)\n",
    "                data_list = json.loads(response.text)['data']['reviews']\n",
    "                for k in range(num):\n",
    "                    review = data_list[k]['reviewTitle']\n",
    "                    temp.append(review)\n",
    "            except:\n",
    "                break\n",
    "        review_list.append(temp)\n",
    "    else:  \n",
    "        review_list.append([0])"
   ]
  },
  {
   "cell_type": "code",
   "execution_count": 28,
   "metadata": {},
   "outputs": [
    {
     "name": "stdout",
     "output_type": "stream",
     "text": [
      "0 : ['실화 바탕으로 여성 주연들이 활약하는 여성감독 영화라는 점에서 의미는 있다. 그러나 캐릭터들을 이토록 작위적으로 구성할 수가 있나?', '실화를 모티브로 하였지만\\n실화는 아닌 이야기.\\n실화를 그대로 다뤘다면\\n오히려 욕먹었을 이야기를\\n적절하게 영화화하였다.\\n무엇보다 K-아줌마와 같은\\n끔찍한 혼종은 없어서 좋았다.']\n",
      "1 : ['나는 아직도 1부가 흥행하지 못한 이유를 모르겠다', '기대하고 봐도 재미있고 기대없이 봐도 재미있는 영화!!!!']\n",
      "2 : ['나는 (누군가의) 별이다', '다양성을 이야기하며 다양성을 잃어가고 있다.']\n",
      "3 : ['한 발짝씩 내디딜 때마다 고통을 향해 나아가는 한 남자의 인생이 신(GOD)이 아닌 개(DOG)로부터 구원받는다.', '아무리 개들에게 사랑을 받아도, 사람의 사랑도 필요하다.']\n",
      "4 : ['긍정으로 가득찬···조금의 고난과 갈등을 보여주며···재미를 선사하는 애니였다😄😄 몇년만에 이렇게 편안하게 극장관람을 했는지 모르겠다', '이런 영화야 말로 가족들과 편안하게 볼 수 있는 영화다\\n게다가 4DX 포맷으로 본다면 비행 장면이 많아서 더 극적인 감각을 느낄 수 있어서 더 재밌다']\n",
      "5 : ['다시는 반복되지 않아야 할 역사.', '결말을 알고봐도 몰입감이 장난아님..\\n보고나면 짜증이 날지경..\\n연기가 살벌하다']\n",
      "6 : ['장엄한 북소리.\\n감히 어떤 말로도 표현할 수 없을 만큼 가슴이 벅차올랐다.', '불필요한 죽음을 부정할 필요도 있다.']\n",
      "7 : ['아쉬움이 남는 이별이 나을 때가 있다. 드라마를 안 본 사람들에게는 불친절했고, 본 사람들을 모욕한 영화', '드라마 팬들을 위한 영화 같다 대만 최애 드라마지만 영화는 아쉬움.. ']\n",
      "8 : [0]\n",
      "9 : ['신선하고 웃겼으나 시대가 맞지않아 공감이 어려웠다.', '빛나는 캐릭터들로 써 내려간 사랑과 구원']\n",
      "10 : ['고레에다 히로카즈의 <괴물> 속 우주는 계속 팽창하며, 마침내 모든 것이 무너지면 시간은 되돌아간다. 그렇게 우리의 관점도 역전된다.', '이 영화를 보고도 \"아이라서 그래\", \"크면 달라져\" 와 같은 병든 말들을 하는 사람들의 마음에 불지르고 싶다.']\n",
      "11 : ['정치인 김대중이 쏘아 올린 결코 작지 않은 공들에 대하여.', '길 위의 사상가에게 답 할 수 있는 건 오직 나의 행동하는 양심 뿐.']\n",
      "12 : ['.', '후반부 싱크가 나간건 아쉽지만 보는 내내 추억도 함께 했다. 다섯 그대들에게 감사를...']\n",
      "13 : [0]\n",
      "14 : ['살아있다는 건 고독함이다', '발광하는 세기말의 감각들.']\n",
      "15 : ['키노라이츠 공동제공 문구를 보고 전율을 느꼈다.', '<빅쇼트> 보다 쉽고 개미 스토리 위주라 <더 울프 오브 월 스트리트> 보다 순한맛. 그렇기에 더 현실감이 뛰어나다.']\n",
      "16 : ['헬렌이 앞으로의 긴 일생동안 부모님을 원망하고 자신의 선택을 후회할 것을 생각하니 참으로 암담하다.', '한동안 팥죽은 못먹겠어...']\n",
      "17 : [0]\n",
      "18 : ['조그만한 교집합이 거대한 합집합이 되기까지.', '“좋은 의도라 해도 전하고자 하는 방식에 따라 달라진다”']\n",
      "19 : [0]\n"
     ]
    }
   ],
   "source": [
    "num = len(review_list)\n",
    "\n",
    "for i in range(num):\n",
    "    try:\n",
    "        print(i, ':', review_list[i][:2])\n",
    "    except:\n",
    "        print('hum : ', i, ':', review_list[i][:2])"
   ]
  },
  {
   "cell_type": "code",
   "execution_count": 30,
   "metadata": {},
   "outputs": [],
   "source": [
    "df = pd.DataFrame()\n",
    "df['name'] = name_list\n",
    "df['code'] = movie_code_list\n",
    "df['review'] = review_list\n",
    "df.to_csv('daum.csv')"
   ]
  },
  {
   "cell_type": "code",
   "execution_count": null,
   "metadata": {},
   "outputs": [],
   "source": []
  }
 ],
 "metadata": {
  "kernelspec": {
   "display_name": "local",
   "language": "python",
   "name": "python3"
  },
  "language_info": {
   "codemirror_mode": {
    "name": "ipython",
    "version": 3
   },
   "file_extension": ".py",
   "mimetype": "text/x-python",
   "name": "python",
   "nbconvert_exporter": "python",
   "pygments_lexer": "ipython3",
   "version": "3.6.13"
  }
 },
 "nbformat": 4,
 "nbformat_minor": 2
}
