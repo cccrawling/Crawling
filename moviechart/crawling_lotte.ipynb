{
 "cells": [
  {
   "cell_type": "code",
   "execution_count": 1,
   "metadata": {},
   "outputs": [
    {
     "name": "stdout",
     "output_type": "stream",
     "text": [
      "37 37\n"
     ]
    }
   ],
   "source": [
    "import pandas as pd\n",
    "import requests\n",
    "from bs4 import BeautifulSoup\n",
    "import json\n",
    "\n",
    "url = 'https://www.lottecinema.co.kr/LCWS/Movie/MovieData.aspx'\n",
    "headers = {\"User-Agent\" : \"Mozilla/5.0\"} \n",
    "\n",
    "\n",
    "payload = {\n",
    "    \"paramList\": '{\"MethodName\":\"GetMoviesToBe\",\"channelType\":\"HO\",\"osType\":\"Chrome\",\"osVersion\":\"Mozilla/5.0 (Windows NT 10.0; Win64; x64) AppleWebKit/537.36 (KHTML, like Gecko) Chrome/120.0.0.0 Safari/537.36\",\"multiLanguageID\":\"KR\",\"division\":1,\"moviePlayYN\":\"Y\",\"orderType\":\"1\",\"blockSize\":100,\"pageNo\":1,\"memberOnNo\":\"\"}'\n",
    "}\n",
    "\n",
    "response =requests.post(url, data=payload, headers=headers)\n",
    "data_list = json.loads(response.text)['Movies']['Items']\n",
    "\n",
    "movie_code_list = []\n",
    "name_list = []\n",
    "num = len(data_list)\n",
    "\n",
    "for i in range(num):\n",
    "    code = data_list[i]['RepresentationMovieCode']\n",
    "    name = data_list[i]['MovieNameUS']\n",
    "    if code != 'AD':\n",
    "        movie_code_list.append(code)\n",
    "        name_list.append(name)\n",
    "\n",
    "print(len(movie_code_list), len(name_list))"
   ]
  },
  {
   "cell_type": "code",
   "execution_count": null,
   "metadata": {},
   "outputs": [],
   "source": [
    "num = 10\n",
    "review_list = []\n",
    "\n",
    "for code in movie_code_list:\n",
    "    temp = []\n",
    "    for j in range(1, 21):\n",
    "    \n",
    "        payload = {\n",
    "            \"paramList\": json.dumps({\"MethodName\":\"GetReviews\",\"channelType\":\"HO\",\"osType\":\"Chrome\",\"osVersion\":\"Mozilla/5.0 (Windows NT 10.0; Win64; x64) AppleWebKit/537.36 (KHTML, like Gecko) Chrome/120.0.0.0 Safari/537.36\",\"representationMovieCode\": code,\"memberID\":\"\",\"realReviewYN\":\"Y\",\"sortSeq\":1, \"pageNo\":j,\"pageSize\":num})\n",
    "        }\n",
    "\n",
    "        response =requests.post(url, data=payload, headers=headers)\n",
    "\n",
    "        data_list = json.loads(response.text)['TotalReviewItems']['Items']\n",
    "        print(data_list)\n",
    "        try:\n",
    "            for k in range(num):\n",
    "                review = data_list[k]['ReviewText']\n",
    "                temp.append(review)\n",
    "        except:\n",
    "            break\n",
    "    review_list.append(temp)\n"
   ]
  },
  {
   "cell_type": "code",
   "execution_count": 106,
   "metadata": {},
   "outputs": [],
   "source": [
    "df = pd.DataFrame()\n",
    "df['name'] = name_list\n",
    "df['code'] = movie_code_list\n",
    "df['review'] = review_list\n",
    "\n",
    "df.to_csv('lotte.csv')"
   ]
  },
  {
   "cell_type": "code",
   "execution_count": null,
   "metadata": {},
   "outputs": [],
   "source": []
  }
 ],
 "metadata": {
  "kernelspec": {
   "display_name": "local",
   "language": "python",
   "name": "python3"
  },
  "language_info": {
   "codemirror_mode": {
    "name": "ipython",
    "version": 3
   },
   "file_extension": ".py",
   "mimetype": "text/x-python",
   "name": "python",
   "nbconvert_exporter": "python",
   "pygments_lexer": "ipython3",
   "version": "3.6.13"
  }
 },
 "nbformat": 4,
 "nbformat_minor": 2
}
